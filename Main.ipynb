{
 "cells": [
  {
   "cell_type": "markdown",
   "metadata": {},
   "source": [
    "# Recommendation Systems Using YELP dataset"
   ]
  },
  {
   "cell_type": "code",
   "execution_count": 2,
   "metadata": {},
   "outputs": [],
   "source": [
    "import csv\n",
    "from collections import defaultdict\n",
    "\n",
    "import json\n",
    "from pprint import pprint"
   ]
  },
  {
   "cell_type": "code",
   "execution_count": 6,
   "metadata": {},
   "outputs": [
    {
     "name": "stdout",
     "output_type": "stream",
     "text": [
      "{'user_id': 'SnXZkRN9Yf060pNTk1HMDg', 'review_id': '---3OXpexMp0oAg77xWfYA', 'business_id': 'lKq4Qsz13FDcAVgp49uukQ', 'stars': 5, 'date': '2012-04-07 00:00:00', 'Pid': '-BeTrYRAOeUPn7cwdE5h_g'}\n",
      "{'user_id': 'SnXZkRN9Yf060pNTk1HMDg', 'review_id': '---3OXpexMp0oAg77xWfYA', 'business_id': 'lKq4Qsz13FDcAVgp49uukQ', 'stars': 5, 'date': '2012-04-07 00:00:00', 'Pid': '-ZF3v_DRObFkqTFof1zj8w'}\n",
      "{'user_id': 'tJlsvyij1G8e8e1onQ4yBQ', 'review_id': '--007YIsRSNb33JY0dyqpg', 'business_id': 'p3YqOYELqXtLyHz9T49p_w', 'stars': 4, 'date': '2011-08-29 00:00:00', 'Pid': '-pgMxsWixdLrrpbRKfzEMA'}\n",
      "{'user_id': 'S6TvDZGLWHXjjCbGufE1QQ', 'review_id': '--1Wwh2WGDjtZV6THmF5nA', 'business_id': 'R6jpwPBe9edy0P64uyaLKA', 'stars': 4, 'date': '2012-11-12 00:00:00', 'Pid': '-q8mjXLIGxwqeegSGIJ5DQ'}\n",
      "{'user_id': 'JB4_tH5U_oN7Xl3MA4aeHw', 'review_id': '--2AS5-RGeHWexSn5CmBOA', 'business_id': 'IMLrj2klosTFvPRLv56cng', 'stars': 3, 'date': '2013-05-13 00:00:00', 'Pid': '-lz-xlF6tZnipxsexqZgmw'}\n",
      "{'user_id': 'oLLYmkej2TMHaTbudug5eA', 'review_id': '--4LgB2HgH5Cyf-I2NpWYg', 'business_id': 'isYj0rlYyUv3bUd4ZChxlQ', 'stars': 4, 'date': '2012-06-24 00:00:00', 'Pid': '-319lqSZ-JnQD3Nz51bWLQ'}\n",
      "{'user_id': '4MHFQcFfHzVe4ISx3lvHlw', 'review_id': '--5n3DpFxEOPxYQ1KhRiEQ', 'business_id': 'BslEhCyzaQPfpHtDogb4hQ', 'stars': 4, 'date': '2015-06-24 00:00:00', 'Pid': '-FXNTxd-UTwwfp3F3CE4Fg'}\n",
      "{'user_id': '-aq0KKWyMbhugu183UGj7Q', 'review_id': '--8s6dNoD5SJ1LFFbvQc1w', 'business_id': '5LNZ67Yw9RD6nf4_UhXOjw', 'stars': 2, 'date': '2014-07-20 00:00:00', 'Pid': '-o4aG7GEpIzfYtuinGHipQ'}\n",
      "{'user_id': 'Tsm8VraTp5OGyVALtUiCeQ', 'review_id': '--a8gQlh2ayRaPuiKm-_Qw', 'business_id': 'pSQFynH1VxkfSmehRXlZWw', 'stars': 3, 'date': '2013-05-30 00:00:00', 'Pid': '-Bpp22oNDGOqsTEpn4OWMA'}\n",
      "{'user_id': 'wXZS42D0L8hoCiSh2Krc_A', 'review_id': '--bm0djP749MtNTC9xpk2Q', 'business_id': '_3FxLxdg1unUQc3QqIgJuA', 'stars': 3, 'date': '2014-05-09 00:00:00', 'Pid': '-K5S03XRhbJgDrxjCiI1XA'}\n"
     ]
    }
   ],
   "source": [
    "#import the filtered results csv\n",
    "\n",
    "with open('test.json') as f:\n",
    "    data = json.load(f)\n",
    "\n",
    "# with open('FilteredResults.csv', newline='') as results:\n",
    "#     data = list(csv.reader(results))\n",
    "    \n",
    "\n",
    "userReviews = defaultdict(dict)\n",
    "for row in data[:][:]:\n",
    "     print(row)\n",
    "     userReviews[str(row['user_id'])][str(row['business_id'])] = row['stars']\n",
    "    \n",
    "# print(userReviews[\"SnXZkRN9Yf060pNTk1HMDg\"][:])\n",
    "        \n",
    "    "
   ]
  }
 ],
 "metadata": {
  "kernelspec": {
   "display_name": "Python 3",
   "language": "python",
   "name": "python3"
  },
  "language_info": {
   "codemirror_mode": {
    "name": "ipython",
    "version": 3
   },
   "file_extension": ".py",
   "mimetype": "text/x-python",
   "name": "python",
   "nbconvert_exporter": "python",
   "pygments_lexer": "ipython3",
   "version": "3.6.5"
  }
 },
 "nbformat": 4,
 "nbformat_minor": 2
}
